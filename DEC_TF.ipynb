{
 "cells": [
  {
   "attachments": {},
   "cell_type": "markdown",
   "metadata": {
    "id": "BWJHmhFROpZv"
   },
   "source": [
    "## Setup"
   ]
  },
  {
   "cell_type": "code",
   "execution_count": 3,
   "metadata": {
    "id": "1zbjvikUOpZv"
   },
   "outputs": [
    {
     "name": "stdout",
     "output_type": "stream",
     "text": [
      "1 Physical GPUs, 1 Logical GPUs\n"
     ]
    }
   ],
   "source": [
    "import tensorflow as tf\n",
    "from tensorflow import keras\n",
    "from tensorflow.keras import layers\n",
    "import PIL \n",
    "from PIL import Image\n",
    "\n",
    "import numpy as np\n",
    "from keras.utils import np_utils\n",
    "from keras.utils import to_categorical\n",
    "from collections import defaultdict\n",
    "import random\n",
    "import copy\n",
    "from scipy.stats import entropy\n",
    "from tqdm import tqdm\n",
    "\n",
    "import tensorflow_datasets as tfds\n",
    "from tensorflow.keras.applications.mobilenet import MobileNet\n",
    "from tensorflow.keras.applications.efficientnet import EfficientNetB0\n",
    "from tensorflow.keras.optimizers import Adam\n",
    "from tensorflow.keras.models import Sequential\n",
    "from tensorflow.keras.layers import*\n",
    "from sklearn.utils import shuffle\n",
    "\n",
    "import matplotlib.pyplot as plt\n",
    "from keras.datasets import cifar10\n",
    "import pickle \n",
    "import glob\n",
    "from sklearn.metrics import accuracy_score\n",
    "import pandas as pd\n",
    "import tensorflow_probability as tfp\n",
    "import tensorflow.keras.backend as K\n",
    "import os\n",
    "import math\n",
    "\n",
    "from pympler.asizeof import asizeof\n",
    "from keras.utils.vis_utils import plot_model\n",
    "# from cd_models import*\n",
    "# from cd_datasets import*\n",
    "\n",
    "import pdb\n",
    "import subprocess as sp"
   ]
  },
  {
   "cell_type": "code",
   "execution_count": 4,
   "metadata": {},
   "outputs": [
    {
     "name": "stdout",
     "output_type": "stream",
     "text": [
      "Automatic pdb calling has been turned ON\n"
     ]
    }
   ],
   "source": [
    "# %pdb on"
   ]
  },
  {
   "cell_type": "code",
   "execution_count": 5,
   "metadata": {},
   "outputs": [
    {
     "data": {
      "text/plain": [
       "'0.17.0'"
      ]
     },
     "execution_count": 5,
     "metadata": {},
     "output_type": "execute_result"
    }
   ],
   "source": [
    "tfp.__version__ #0.17.0"
   ]
  },
  {
   "cell_type": "code",
   "execution_count": 6,
   "metadata": {},
   "outputs": [],
   "source": [
    "import warnings\n",
    "warnings.filterwarnings(\"ignore\")"
   ]
  },
  {
   "cell_type": "code",
   "execution_count": 7,
   "metadata": {},
   "outputs": [
    {
     "data": {
      "text/plain": [
       "[PhysicalDevice(name='/physical_device:GPU:0', device_type='GPU')]"
      ]
     },
     "execution_count": 7,
     "metadata": {},
     "output_type": "execute_result"
    }
   ],
   "source": [
    "#tf.config.run_functions_eagerly(True)\n",
    "tf.config.list_physical_devices('GPU')"
   ]
  },
  {
   "cell_type": "code",
   "execution_count": 8,
   "metadata": {},
   "outputs": [],
   "source": [
    "BATCH_SIZE = 50"
   ]
  },
  {
   "cell_type": "code",
   "execution_count": 9,
   "metadata": {},
   "outputs": [],
   "source": [
    "# Set the seed for numpy\n",
    "np.random.seed(0)\n",
    "\n",
    "# Set the global seed for TensorFlow\n",
    "tf.random.set_seed(0)"
   ]
  },
  {
   "attachments": {},
   "cell_type": "markdown",
   "metadata": {},
   "source": [
    "# Define Dynamic Entropy Control"
   ]
  },
  {
   "cell_type": "code",
   "execution_count": 232,
   "metadata": {},
   "outputs": [],
   "source": [
    "\n",
    "##higher temp will make student less certain/confident\n",
    "class DEC(keras.Model):\n",
    "    def __init__(self, student, teacher, minTemp = 1.2, maxTemp = 5.0):\n",
    "        super(DEC, self).__init__() \n",
    "        self.student = student\n",
    "        self.teacher = teacher\n",
    "        self.oldStudent = teacher #a reference \n",
    "        self.minTemp = minTemp\n",
    "        self.maxTemp = maxTemp\n",
    "\n",
    "\n",
    "    def compile(self, optimizer, metrics, student_loss_fn, distillation_loss_fn, numClasses=10,  val_set_entropy = None , val_set_norm = None):\n",
    "        super(DEC, self).compile(optimizer=optimizer, metrics=metrics)\n",
    "        self.student_loss_fn = student_loss_fn\n",
    "        self.distillation_loss_fn = distillation_loss_fn\n",
    "        self.numClasses = numClasses\n",
    "        self.maxEntropy = np.log2(self.numClasses)\n",
    "        self.avgTemp = tf.Variable(0.0, trainable=False)\n",
    "        self.totalScaledLogitsNorm = tf.Variable(0.0, trainable=False)\n",
    "        self.avgScaledLogitsNorm = tf.Variable(0.0, trainable=False)\n",
    "        self.totalTemp = tf.Variable(0.0, trainable=False)\n",
    "        self.totalSamples = tf.Variable(0, trainable=False)\n",
    "        self.val_set_entropy = val_set_entropy\n",
    "        if val_set_norm is None:\n",
    "            d = self.teacher.layers[-1].weights[0]\n",
    "            nnn = tf.norm(d, axis=1)\n",
    "            self.val_set_norm = nnn\n",
    "        else:\n",
    "            self.val_set_norm = val_set_norm\n",
    "\n",
    "        self.debug = tf.Variable(0.0, trainable=False)\n",
    "\n",
    "    @tf.function\n",
    "    def batch_entropy(self, z, avg = False): \n",
    "        '''returns shannon entropy on a batch of predictions, z. \n",
    "        Expects logits. DOES compute softmax before calculating entropy.''' \n",
    "        # teacher_predictions = self.teacher.predict(z, batch_size = BATCH_SIZE)\n",
    "        teacher_predictions_SM = tf.nn.softmax(z, axis = 1) \n",
    "\n",
    "        if avg == True:\n",
    "            return np.mean(tf.keras.backend.categorical_crossentropy(teacher_predictions_SM, teacher_predictions_SM)/tf.math.log(2.0) )\n",
    "        \n",
    "        return tf.keras.backend.categorical_crossentropy(teacher_predictions_SM, teacher_predictions_SM)/tf.math.log(2.0) \n",
    "    \n",
    "    @tf.function \n",
    "    def adaptive_T(self, z):\n",
    "        '''compute certainty regularizer'''\n",
    "        def sigmoid(x):\n",
    "            return 1 / (1 + tf.exp(-x))\n",
    "\n",
    "        class_supports_norm = self.val_set_norm\n",
    "        logits_norm = tf.norm(z, axis=1)\n",
    "        # assert(False)\n",
    "        scaled_logits_norm = logits_norm / class_supports_norm\n",
    "\n",
    "        # Update the total and average of scaled logits norm\n",
    "        num_samp = tf.shape(z)[0]\n",
    "        self.totalScaledLogitsNorm.assign_add(tf.reduce_sum(scaled_logits_norm))\n",
    "        self.avgScaledLogitsNorm.assign(self.totalScaledLogitsNorm / tf.cast(self.totalSamples, tf.float32))\n",
    "\n",
    "        # Calculate entropy and adjust for temperature range\n",
    "        entropy_values = self.batch_entropy(z)\n",
    "        if self.val_set_entropy is not None:\n",
    "            #############################################################\n",
    "            ss = (entropy_values - self.val_set_entropy) #\n",
    "            scaled_entropy_values = sigmoid( ss/(self.maxEntropy**(1/2)) ) # Adjust using sigmoid function\n",
    "\n",
    "        new_range_min, new_range_max = self.minTemp, self.maxTemp\n",
    "\n",
    "        temperature = new_range_min + (scaled_entropy_values) * (new_range_max - new_range_min)\n",
    "\n",
    "        temp_scaling_factor = (scaled_logits_norm)**(-1.0) \n",
    "        tau = temperature*temp_scaling_factor\n",
    "\n",
    "        # Update average temperature\n",
    "        self.totalTemp.assign_add(tf.reduce_sum(tau))\n",
    "        self.totalSamples.assign_add(num_samp)\n",
    "        self.avgTemp.assign(self.totalTemp / tf.cast(self.totalSamples, tf.float32))\n",
    "        \n",
    "        self.debug.assign(tf.reduce_mean(temp_scaling_factor))\n",
    "        return temperature\n",
    "    \n",
    "    def train_step(self, data):\n",
    "        # Unpack data\n",
    "        x, y = data #y is used for metrics, but it not used for training\n",
    "\n",
    "        # Forward pass of teacher\n",
    "        teacher_predictions = self.teacher(x, training = False)\n",
    "        t_vec = self.adaptive_T(teacher_predictions)\n",
    "        t_vec = tf.expand_dims(t_vec, axis=-1) \n",
    "\n",
    "        # print(teacher_predictions.shape, t_vec.shape)\n",
    "        # assert(False)\n",
    "\n",
    "        with tf.GradientTape() as tape:\n",
    "            # Forward pass of student\n",
    "            student_predictions = self.student(x, training = True)\n",
    "            student_predictionsSM = tf.nn.softmax(student_predictions, axis=1)\n",
    "            \n",
    "            # Compute losses\n",
    "            student_loss = self.student_loss_fn(y, student_predictionsSM) #we test with unit temp during inference, student loss function, NOT USED\n",
    "                                                                          #should NOT use logits\n",
    "\n",
    "            # The magnitudes of the gradients produced by the soft targets scale\n",
    "            # as 1/T^2, multiply them by T^2 when using both hard and soft targets.\n",
    "            distillation_loss = (\n",
    "                self.distillation_loss_fn(\n",
    "                    tf.nn.softmax(student_predictions, axis=1), #\"student\" has temperature T = 1\n",
    "                    tf.nn.softmax(teacher_predictions / t_vec, axis=1),\n",
    "                )*tf.math.reduce_mean(tf.squeeze(t_vec))**2\n",
    "               \n",
    "            )  \n",
    "            loss = distillation_loss # note that the student loss is never back propagated. \n",
    "\n",
    "        # Compute gradients\n",
    "        trainable_vars = self.student.trainable_variables\n",
    "        gradients = tape.gradient(loss, trainable_vars)\n",
    "\n",
    "        # Update weights\n",
    "        self.optimizer.apply_gradients(zip(gradients, trainable_vars)) #note that we DO NOT back propage w/respect to y_true. \n",
    "\n",
    "        # Update the metrics configured in `compile()`.\n",
    "        self.compiled_metrics.update_state(y, student_predictions)\n",
    "\n",
    "        # Return a dict of performance\n",
    "        results = {m.name: m.result() for m in self.metrics}\n",
    "        results.update(\n",
    "            {\"student_loss\": student_loss, \"distillation_loss\": distillation_loss}\n",
    "        )\n",
    "        return results\n",
    "\n",
    "    def test_step(self, data):\n",
    "        # Unpack the data\n",
    "        x, y = data\n",
    "\n",
    "        # Compute predictions\n",
    "        y_prediction = tf.nn.softmax(self.student(x, training=False), axis = 1) #self.student(x, training = False) #\n",
    "\n",
    "        # Calculate the loss\n",
    "        student_loss = self.student_loss_fn(y, y_prediction) # should have \"from logit = false\"\n",
    "\n",
    "        # Update the metrics.\n",
    "        self.compiled_metrics.update_state(y, y_prediction)\n",
    "\n",
    "        # Return a dict of performance\n",
    "        results = {m.name: m.result() for m in self.metrics}\n",
    "        results.update({\"student_loss during Testing\": student_loss})\n",
    "        return results\n",
    "\n"
   ]
  },
  {
   "cell_type": "code",
   "execution_count": 2,
   "metadata": {},
   "outputs": [
    {
     "ename": "IndentationError",
     "evalue": "unexpected indent (1238337341.py, line 6)",
     "output_type": "error",
     "traceback": [
      "\u001b[1;36m  Input \u001b[1;32mIn [2]\u001b[1;36m\u001b[0m\n\u001b[1;33m    opt = keras.optimizers.SGD(learning_rate=0.001)\u001b[0m\n\u001b[1;37m    ^\u001b[0m\n\u001b[1;31mIndentationError\u001b[0m\u001b[1;31m:\u001b[0m unexpected indent\n"
     ]
    }
   ],
   "source": [
    "# Example usage:\n",
    "\n",
    "teacher = MobileNet() # some place holder model\n",
    "student = copy.deepcopy(student)\n",
    "            \n",
    "            opt = keras.optimizers.SGD(learning_rate=0.001)\n",
    "            loss_ = tf.keras.losses.BinaryCrossentropy(from_logits = False)\n",
    "dirtyX, dirtyY = get_domain_shift_data() # returns some domain shift. \n",
    "\n",
    "# freeze weights here\n",
    "# print(\"Freezing some of the student\") \n",
    "# z = len(student.layers[1].layers)\n",
    "# for j in student.layers[1].layers[z - 50: z]: #smaller number means freeze fewer \n",
    "#     j.trainable = False\n",
    "# student.layers[3].trainable = False\n",
    "# student.compile(keras.optimizers.RMSprop(learning_rate=2e-5), \n",
    "# loss= tf.keras.losses.SparseCategoricalCrossentropy(from_logits = True),\n",
    "# metrics = ['accuracy'])\n",
    "\n",
    "distiller = DEC(student=student, teacher = teacher, minTemp= 1.0, maxTemp=3.0)\n",
    "distiller.compile(\n",
    "    optimizer =  opt,\n",
    "    metrics=['accuracy'],\n",
    "    student_loss_fn = keras.losses.SparseCategoricalCrossentropy(from_logits = False), #<--- not used; this is a dummy loss funciton\n",
    "    distillation_loss_fn = loss_,\n",
    "    numClasses=10,\n",
    "    val_set_entropy=H_batch(tpx := teacher.predict(ogX, batch_size = BATCH_SIZE)),\n",
    "    val_set_norm= np.median(tf.norm(tpx, axis=1))\n",
    ")\n",
    "\n",
    "\n",
    "distiller.fit(dirtyX, dirtyY, batch_size= BATCH_SIZE, epochs = 1, verbose = False) #the 'y' labels are not used for adaptation and are there just for measuring performance\n",
    "\n",
    "T_scale_estimate = np.array(distiller.avgTemp, dtype = np.float32) # get the Tau value after adaptation to use for temperature scaling"
   ]
  }
 ],
 "metadata": {
  "colab": {
   "collapsed_sections": [],
   "name": "knowledge_distillation",
   "provenance": [],
   "toc_visible": true
  },
  "kernelspec": {
   "display_name": "Python 3",
   "language": "python",
   "name": "python3"
  },
  "language_info": {
   "codemirror_mode": {
    "name": "ipython",
    "version": 3
   },
   "file_extension": ".py",
   "mimetype": "text/x-python",
   "name": "python",
   "nbconvert_exporter": "python",
   "pygments_lexer": "ipython3",
   "version": "3.9.12"
  },
  "vscode": {
   "interpreter": {
    "hash": "ad2bdc8ecc057115af97d19610ffacc2b4e99fae6737bb82f5d7fb13d2f2c186"
   }
  }
 },
 "nbformat": 4,
 "nbformat_minor": 4
}
